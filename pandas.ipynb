{
 "cells": [
  {
   "cell_type": "code",
   "execution_count": 1,
   "id": "cdb71b28",
   "metadata": {},
   "outputs": [],
   "source": [
    "import pandas as pd"
   ]
  },
  {
   "cell_type": "code",
   "execution_count": 3,
   "id": "63033db4",
   "metadata": {},
   "outputs": [
    {
     "data": {
      "text/plain": [
       "0    10\n",
       "1    20\n",
       "2    30\n",
       "3    40\n",
       "4    50\n",
       "dtype: int64"
      ]
     },
     "execution_count": 3,
     "metadata": {},
     "output_type": "execute_result"
    }
   ],
   "source": [
    "s = pd.Series([10,20,30,40,50])\n",
    "s"
   ]
  },
  {
   "cell_type": "code",
   "execution_count": 4,
   "id": "1b597fbb",
   "metadata": {},
   "outputs": [
    {
     "data": {
      "text/plain": [
       "dtype('int64')"
      ]
     },
     "execution_count": 4,
     "metadata": {},
     "output_type": "execute_result"
    }
   ],
   "source": [
    "s.dtype"
   ]
  },
  {
   "cell_type": "code",
   "execution_count": 5,
   "id": "dff383fc",
   "metadata": {},
   "outputs": [
    {
     "data": {
      "text/plain": [
       "array([10, 20, 30, 40, 50])"
      ]
     },
     "execution_count": 5,
     "metadata": {},
     "output_type": "execute_result"
    }
   ],
   "source": [
    "s.values"
   ]
  },
  {
   "cell_type": "code",
   "execution_count": 6,
   "id": "6ecca9ae",
   "metadata": {},
   "outputs": [
    {
     "data": {
      "text/plain": [
       "RangeIndex(start=0, stop=5, step=1)"
      ]
     },
     "execution_count": 6,
     "metadata": {},
     "output_type": "execute_result"
    }
   ],
   "source": [
    "s.index"
   ]
  },
  {
   "cell_type": "code",
   "execution_count": 7,
   "id": "589ad68a",
   "metadata": {},
   "outputs": [
    {
     "name": "stdout",
     "output_type": "stream",
     "text": [
      "None\n"
     ]
    }
   ],
   "source": [
    "print(s.name)"
   ]
  },
  {
   "cell_type": "code",
   "execution_count": 10,
   "id": "685d7d51",
   "metadata": {},
   "outputs": [
    {
     "data": {
      "text/plain": [
       "0    10\n",
       "1    20\n",
       "2    30\n",
       "3    40\n",
       "4    50\n",
       "Name: calories, dtype: int64"
      ]
     },
     "execution_count": 10,
     "metadata": {},
     "output_type": "execute_result"
    }
   ],
   "source": [
    "s\n",
    "s.name = \"calories\"\n",
    "s"
   ]
  },
  {
   "cell_type": "code",
   "execution_count": 11,
   "id": "72c249ee",
   "metadata": {},
   "outputs": [
    {
     "data": {
      "text/plain": [
       "0    10\n",
       "1    20\n",
       "2    30\n",
       "3    40\n",
       "4    50\n",
       "Name: calories, dtype: int64"
      ]
     },
     "execution_count": 11,
     "metadata": {},
     "output_type": "execute_result"
    }
   ],
   "source": [
    "s"
   ]
  },
  {
   "cell_type": "code",
   "execution_count": 12,
   "id": "381bab00",
   "metadata": {},
   "outputs": [
    {
     "data": {
      "text/plain": [
       "np.int64(10)"
      ]
     },
     "execution_count": 12,
     "metadata": {},
     "output_type": "execute_result"
    }
   ],
   "source": [
    "#Indexing\n",
    "s[0]"
   ]
  },
  {
   "cell_type": "code",
   "execution_count": 13,
   "id": "b961b32e",
   "metadata": {},
   "outputs": [
    {
     "data": {
      "text/plain": [
       "0    10\n",
       "1    20\n",
       "Name: calories, dtype: int64"
      ]
     },
     "execution_count": 13,
     "metadata": {},
     "output_type": "execute_result"
    }
   ],
   "source": [
    "s[0:2] #start (included) : step value (values to jump)"
   ]
  },
  {
   "cell_type": "code",
   "execution_count": 14,
   "id": "cf35bbae",
   "metadata": {},
   "outputs": [
    {
     "data": {
      "text/plain": [
       "np.int64(40)"
      ]
     },
     "execution_count": 14,
     "metadata": {},
     "output_type": "execute_result"
    }
   ],
   "source": [
    "#iloc -> location based indexing\n",
    "s.iloc[3]"
   ]
  },
  {
   "cell_type": "code",
   "execution_count": 15,
   "id": "137c2c61",
   "metadata": {},
   "outputs": [
    {
     "data": {
      "text/plain": [
       "1    20\n",
       "3    40\n",
       "4    50\n",
       "Name: calories, dtype: int64"
      ]
     },
     "execution_count": 15,
     "metadata": {},
     "output_type": "execute_result"
    }
   ],
   "source": [
    "s.iloc[[1,3,4]]"
   ]
  },
  {
   "cell_type": "code",
   "execution_count": 19,
   "id": "08880905",
   "metadata": {},
   "outputs": [
    {
     "name": "stdout",
     "output_type": "stream",
     "text": [
      "Index(['apple', 'banana', 'orange', 'grapes', 'mango'], dtype='object')\n"
     ]
    }
   ],
   "source": [
    "index = [\"apple\",\"banana\",\"orange\",\"grapes\",\"mango\"]\n",
    "s.idx= index\n",
    "print(s.index)"
   ]
  },
  {
   "cell_type": "code",
   "execution_count": 20,
   "id": "d42800b7",
   "metadata": {},
   "outputs": [
    {
     "data": {
      "text/plain": [
       "np.int64(30)"
      ]
     },
     "execution_count": 20,
     "metadata": {},
     "output_type": "execute_result"
    }
   ],
   "source": [
    "s['orange']"
   ]
  },
  {
   "cell_type": "code",
   "execution_count": null,
   "id": "a13922bb",
   "metadata": {},
   "outputs": [
    {
     "data": {
      "text/plain": [
       "apple     10\n",
       "orange    30\n",
       "Name: calories, dtype: int64"
      ]
     },
     "execution_count": 29,
     "metadata": {},
     "output_type": "execute_result"
    }
   ],
   "source": [
    "#loc->label based indexing\n",
    "#s.loc[['apple','orange']] \n",
    "#s.iloc[['apple','orange']]\n",
    "s.iloc[[0,2]]"
   ]
  },
  {
   "cell_type": "code",
   "execution_count": 30,
   "id": "3c77862d",
   "metadata": {},
   "outputs": [
    {
     "data": {
      "text/plain": [
       "apple     10\n",
       "banana    20\n",
       "orange    30\n",
       "grapes    40\n",
       "Name: calories, dtype: int64"
      ]
     },
     "execution_count": 30,
     "metadata": {},
     "output_type": "execute_result"
    }
   ],
   "source": [
    "#in label based indexing your start as well as stop value both are included in the output\n",
    "s['apple':'grapes']"
   ]
  },
  {
   "cell_type": "code",
   "execution_count": 31,
   "id": "e1ddd9a9",
   "metadata": {},
   "outputs": [],
   "source": [
    "fruit_protien  = {\n",
    "    \"Avocado\":2.0, #grams of protien\n",
    "     \"Guava\": 2.6,\n",
    "    \"Blackberries\": 2.0,\n",
    "    \"Oranges\": 0.9,\n",
    "    \"Banana\": 1.1,\n",
    "    \"Apples\": 0.3,\n",
    "    \"Kiwi\": 1.1,\n",
    "    \"Pomegranate\": 1.7,\n",
    "    \"Mango\": 0.8,\n",
    "    \"Cherries\": 1.0\n",
    "\n",
    "}"
   ]
  },
  {
   "cell_type": "code",
   "execution_count": 34,
   "id": "252934de",
   "metadata": {},
   "outputs": [
    {
     "data": {
      "text/plain": [
       "Avocado         2.0\n",
       "Guava           2.6\n",
       "Blackberries    2.0\n",
       "Oranges         0.9\n",
       "Banana          1.1\n",
       "Apples          0.3\n",
       "Kiwi            1.1\n",
       "Pomegranate     1.7\n",
       "Mango           0.8\n",
       "Cherries        1.0\n",
       "Name: Protien, dtype: float64"
      ]
     },
     "execution_count": 34,
     "metadata": {},
     "output_type": "execute_result"
    }
   ],
   "source": [
    "s2 = pd.Series(fruit_protien,name = \"Protien\")\n",
    "s2"
   ]
  },
  {
   "cell_type": "code",
   "execution_count": 35,
   "id": "50d1e02b",
   "metadata": {},
   "outputs": [
    {
     "data": {
      "text/plain": [
       "Avocado         2.0\n",
       "Guava           2.6\n",
       "Blackberries    2.0\n",
       "Banana          1.1\n",
       "Kiwi            1.1\n",
       "Pomegranate     1.7\n",
       "Name: Protien, dtype: float64"
      ]
     },
     "execution_count": 35,
     "metadata": {},
     "output_type": "execute_result"
    }
   ],
   "source": [
    "#Conditional selection\n",
    "s2[s2>1]"
   ]
  },
  {
   "cell_type": "code",
   "execution_count": 36,
   "id": "42fccb5f",
   "metadata": {},
   "outputs": [
    {
     "data": {
      "text/plain": [
       "Avocado         2.0\n",
       "Guava           2.6\n",
       "Blackberries    2.0\n",
       "Oranges         0.9\n",
       "Banana          1.1\n",
       "Apples          0.3\n",
       "Kiwi            1.1\n",
       "Pomegranate     1.7\n",
       "Mango           0.8\n",
       "Cherries        1.0\n",
       "Name: Protien, dtype: float64"
      ]
     },
     "execution_count": 36,
     "metadata": {},
     "output_type": "execute_result"
    }
   ],
   "source": [
    "#logical operators : and or not\n",
    "s2[(s2>0.5) | (s2<=2)]"
   ]
  },
  {
   "cell_type": "code",
   "execution_count": 37,
   "id": "f2fb8a81",
   "metadata": {},
   "outputs": [
    {
     "data": {
      "text/plain": [
       "Oranges     0.9\n",
       "Apples      0.3\n",
       "Mango       0.8\n",
       "Cherries    1.0\n",
       "Name: Protien, dtype: float64"
      ]
     },
     "execution_count": 37,
     "metadata": {},
     "output_type": "execute_result"
    }
   ],
   "source": [
    "#not operation:\n",
    "s2[~(s2>1)]"
   ]
  },
  {
   "cell_type": "code",
   "execution_count": 38,
   "id": "f7dd197a",
   "metadata": {},
   "outputs": [
    {
     "data": {
      "text/plain": [
       "Avocado         2.0\n",
       "Guava           2.6\n",
       "Blackberries    2.0\n",
       "Oranges         0.9\n",
       "Banana          1.1\n",
       "Apples          0.3\n",
       "Kiwi            1.1\n",
       "Pomegranate     1.7\n",
       "Mango           4.9\n",
       "Cherries        1.0\n",
       "Name: Protien, dtype: float64"
      ]
     },
     "execution_count": 38,
     "metadata": {},
     "output_type": "execute_result"
    }
   ],
   "source": [
    "#Modifying the series\n",
    "s2[\"Mango\"] = 4.9\n",
    "s2"
   ]
  },
  {
   "cell_type": "code",
   "execution_count": 40,
   "id": "5cda0491",
   "metadata": {},
   "outputs": [
    {
     "data": {
      "text/plain": [
       "np.int64(3)"
      ]
     },
     "execution_count": 40,
     "metadata": {},
     "output_type": "execute_result"
    }
   ],
   "source": [
    "import numpy as np\n",
    "ser = pd.Series(['a',np.nan,1,np.nan,2])\n",
    "ser.notnull().sum()"
   ]
  },
  {
   "cell_type": "code",
   "execution_count": 41,
   "id": "26af68d2",
   "metadata": {},
   "outputs": [],
   "source": [
    "#DataFrame\n",
    "data = {\n",
    "    \"Name\":[\"Alice\",\"Bob\",\"Charlie\",\"David\",\"Eve\",\"Alice\"],\n",
    "    \"Age\": [25, 30, 35, np.nan, 29, 25],\n",
    "    \"Department\": [\"HR\", \"IT\", \"Finance\", \"IT\", \"HR\", \"HR\"],\n",
    "    \"Salary\": [50000, 60000, 70000, 62000, np.nan, 50000]\n",
    "}"
   ]
  }
 ],
 "metadata": {
  "kernelspec": {
   "display_name": "Python 3",
   "language": "python",
   "name": "python3"
  },
  "language_info": {
   "codemirror_mode": {
    "name": "ipython",
    "version": 3
   },
   "file_extension": ".py",
   "mimetype": "text/x-python",
   "name": "python",
   "nbconvert_exporter": "python",
   "pygments_lexer": "ipython3",
   "version": "3.9.6"
  }
 },
 "nbformat": 4,
 "nbformat_minor": 5
}
