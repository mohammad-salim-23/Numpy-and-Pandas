{
 "cells": [
  {
   "cell_type": "markdown",
   "id": "925af8f7",
   "metadata": {},
   "source": [
    "Numpy array and basics"
   ]
  },
  {
   "cell_type": "code",
   "execution_count": 4,
   "id": "ebd189a5",
   "metadata": {},
   "outputs": [],
   "source": [
    "import numpy as np"
   ]
  },
  {
   "cell_type": "code",
   "execution_count": null,
   "id": "5361de13",
   "metadata": {},
   "outputs": [],
   "source": []
  },
  {
   "cell_type": "code",
   "execution_count": 6,
   "id": "537b1a1e",
   "metadata": {},
   "outputs": [
    {
     "name": "stdout",
     "output_type": "stream",
     "text": [
      "1D array:  [1 2 3 4 5]\n",
      "2d array [[1 2 3]\n",
      " [4 5 6]]\n"
     ]
    }
   ],
   "source": [
    "arr_1d = np.array([1,2,3,4,5])\n",
    "print(\"1D array: \",arr_1d)\n",
    "\n",
    "arr_2d = np.array([[1,2,3],[4,5,6]])\n",
    "print(\"2d array\",arr_2d)"
   ]
  },
  {
   "cell_type": "markdown",
   "id": "22fc3d22",
   "metadata": {},
   "source": [
    "##list vs numpy array"
   ]
  },
  {
   "cell_type": "code",
   "execution_count": null,
   "id": "b7416bf8",
   "metadata": {},
   "outputs": [
    {
     "name": "stdout",
     "output_type": "stream",
     "text": [
      "python list multiplication  [1, 2, 3, 1, 2, 3]\n",
      "python array multiplication  [2 4 6]\n",
      "\n",
      " list operation time:  0.007569789886474609\n",
      "\n",
      " numpy operation time:  0.0018010139465332031\n"
     ]
    }
   ],
   "source": [
    "py_list = [1,2,3]\n",
    "print(\"python list multiplication \",py_list*2)\n",
    "\n",
    "np_array = np.array([1,2,3]) #element wise multiplication\n",
    "print(\"python array multiplication \",np_array*2)\n",
    "\n",
    "import time \n",
    "start = time.time()\n",
    "py_list = [i*2 for  i in range(100000)]\n",
    "print(\"\\n list operation time: \",time.time()-start)\n",
    "\n",
    "start = time.time()\n",
    "np_array = np.arange(100000)*2\n",
    "print(\"\\n numpy operation time: \",time.time()-start)"
   ]
  },
  {
   "cell_type": "markdown",
   "id": "76f49e4c",
   "metadata": {},
   "source": [
    "#creating array from scratch"
   ]
  },
  {
   "cell_type": "code",
   "execution_count": 12,
   "id": "e93bec36",
   "metadata": {},
   "outputs": [
    {
     "name": "stdout",
     "output_type": "stream",
     "text": [
      "zeroes array: \n",
      " [[0. 0. 0. 0.]\n",
      " [0. 0. 0. 0.]\n",
      " [0. 0. 0. 0.]]\n",
      "one array: \n",
      " [[1. 1. 1.]\n",
      " [1. 1. 1.]]\n",
      "full array: \n",
      " [[7 7]\n",
      " [7 7]]\n",
      "random array: \n",
      " [[0.68080408 0.72738219 0.57332301]\n",
      " [0.66282118 0.17410175 0.64404408]]\n",
      "sequence array: \n",
      " [ 0  2  4  6  8 10]\n"
     ]
    }
   ],
   "source": [
    "zeroes = np.zeros((3,4))\n",
    "print(\"zeroes array: \\n\", zeroes)\n",
    "\n",
    "ones = np.ones((2,3))\n",
    "print(\"one array: \\n\",ones)\n",
    "\n",
    "full = np.full((2,2),7)\n",
    "print(\"full array: \\n\",full)\n",
    "\n",
    "random = np.random.random((2,3))\n",
    "print(\"random array: \\n\",random)\n",
    "\n",
    "sequence = np.arange(0,11,2)\n",
    "print(\"sequence array: \\n\", sequence)"
   ]
  },
  {
   "cell_type": "markdown",
   "id": "85583870",
   "metadata": {},
   "source": [
    "#Vecotor,matrix and tensor"
   ]
  },
  {
   "cell_type": "code",
   "execution_count": 14,
   "id": "80292861",
   "metadata": {},
   "outputs": [
    {
     "name": "stdout",
     "output_type": "stream",
     "text": [
      "vecotor  [1 2 3]\n",
      "Matrix:  [[1 2 3]\n",
      " [4 5 6]]\n",
      "Tensor:  [[[1 2]\n",
      "  [3 4]]\n",
      "\n",
      " [[5 6]\n",
      "  [7 8]]]\n"
     ]
    }
   ],
   "source": [
    "vector = np.array([1,2,3])\n",
    "print(\"vecotor \",vector)\n",
    "\n",
    "matrix = np.array([[1,2,3],\n",
    "                  [4,5,6]])\n",
    "print(\"Matrix: \",matrix)\n",
    "\n",
    "tensor = np.array([[[1,2],[3,4]],\n",
    "                   [[5,6],[7,8]]])\n",
    "print(\"Tensor: \",tensor)"
   ]
  },
  {
   "cell_type": "markdown",
   "id": "257c94d5",
   "metadata": {},
   "source": [
    "##Array properties"
   ]
  },
  {
   "cell_type": "code",
   "execution_count": 17,
   "id": "e8316c61",
   "metadata": {},
   "outputs": [
    {
     "name": "stdout",
     "output_type": "stream",
     "text": [
      "Shape  (2, 3)\n",
      "Dimension  2\n",
      "Size  6\n",
      "Dtype  int64\n"
     ]
    }
   ],
   "source": [
    "arr = np.array([[1,2,3],\n",
    "                [4,5,6],])\n",
    "print(\"Shape \",arr.shape)\n",
    "print(\"Dimension \",arr.ndim)\n",
    "print(\"Size \",arr.size)\n",
    "print(\"Dtype \",arr.dtype)"
   ]
  },
  {
   "cell_type": "markdown",
   "id": "7901617e",
   "metadata": {},
   "source": [
    "#Array reshaping"
   ]
  },
  {
   "cell_type": "code",
   "execution_count": 18,
   "id": "ea7064fb",
   "metadata": {},
   "outputs": [
    {
     "name": "stdout",
     "output_type": "stream",
     "text": [
      "Original array  [ 0  1  2  3  4  5  6  7  8  9 10 11]\n",
      "\n",
      " reshaped array  [[ 0  1  2  3]\n",
      " [ 4  5  6  7]\n",
      " [ 8  9 10 11]]\n",
      "\n",
      " flattened array  [ 0  1  2  3  4  5  6  7  8  9 10 11]\n",
      "\n",
      " raveled array  [ 0  1  2  3  4  5  6  7  8  9 10 11]\n",
      "\n",
      " Transposed array  [[ 0  4  8]\n",
      " [ 1  5  9]\n",
      " [ 2  6 10]\n",
      " [ 3  7 11]]\n"
     ]
    }
   ],
   "source": [
    "arr = np.arange(12)\n",
    "print(\"Original array \",arr)\n",
    "\n",
    "reshaped = arr.reshape((3,4))\n",
    "print(\"\\n reshaped array \",reshaped)\n",
    "\n",
    "flattened = reshaped.flatten()\n",
    "print(\"\\n flattened array \",flattened)\n",
    "\n",
    "#ravel (return view , instead of copy)\n",
    "raveled = reshaped.ravel()\n",
    "print(\"\\n raveled array \",raveled)\n",
    "\n",
    "#Transpose\n",
    "transpose = reshaped.T\n",
    "print(\"\\n Transposed array \",transpose)"
   ]
  }
 ],
 "metadata": {
  "kernelspec": {
   "display_name": "venv",
   "language": "python",
   "name": "python3"
  },
  "language_info": {
   "codemirror_mode": {
    "name": "ipython",
    "version": 3
   },
   "file_extension": ".py",
   "mimetype": "text/x-python",
   "name": "python",
   "nbconvert_exporter": "python",
   "pygments_lexer": "ipython3",
   "version": "3.9.6"
  }
 },
 "nbformat": 4,
 "nbformat_minor": 5
}
